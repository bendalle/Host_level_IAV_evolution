{
 "cells": [
  {
   "cell_type": "markdown",
   "metadata": {},
   "source": [
    "# Dn Ds on our data\n",
    "\n",
    "Interpretting Dn/Ds is challenging. It is not robust on short time scales. That said we see an overaboundance of synonymous mutations and have been asked to correct for the number of NS and S mutations. So we do it, keeping in mind the caveots.\n",
    "\n",
    "_NB: check http://bioinformatics.cvr.ac.uk/blog/calculating-dnds-for-ngs-datasets/ for reference_"
   ]
  },
  {
   "cell_type": "code",
   "execution_count": 1,
   "metadata": {},
   "outputs": [
    {
     "name": "stderr",
     "output_type": "stream",
     "text": [
      "/Users/jt/miniconda3/envs/ipykernel_py2/lib/python2.7/site-packages/Bio/codonalign/__init__.py:27: BiopythonExperimentalWarning: Bio.codonalign is an experimental module which may undergo significant changes prior to its future official release.\n",
      "  BiopythonExperimentalWarning)\n"
     ]
    }
   ],
   "source": [
    "import numpy as np\n",
    "import pandas as pd\n",
    "import copy \n",
    "from matplotlib import pyplot as plt\n",
    "import os\n",
    "import tempfile\n",
    "import sys\n",
    "import subprocess\n",
    "from Bio.Seq import Seq\n",
    "from Bio.SeqRecord import SeqRecord\n",
    "from Bio import SeqIO\n",
    "from Bio.Alphabet import IUPAC\n",
    "from Bio import codonalign\n",
    "from ast import literal_eval\n",
    "import re\n",
    "%matplotlib inline\n",
    "\n"
   ]
  },
  {
   "cell_type": "code",
   "execution_count": 2,
   "metadata": {},
   "outputs": [],
   "source": [
    "def ReadFASTA(fastafile):\n",
    "    \"\"\"Reads sequences from a FASTA file.\n",
    "\n",
    "    'fastafile' should specify the name of a FASTA file.\n",
    "\n",
    "    This function reads all sequences from the FASTA file.  It returns the\n",
    "        list 'headers_seqs'.  This list is composed of a seq_record objects.\n",
    "    \"\"\"\n",
    "    seqs =[]\n",
    "    header = None\n",
    "    for seq_record in SeqIO.parse(fastafile, \"fasta\"):\n",
    "        seq_record.seq.alphabet=IUPAC.unambiguous_dna\n",
    "        seqs.append(seq_record)\n",
    "\n",
    "    return seqs\n",
    "\n",
    "\n"
   ]
  },
  {
   "cell_type": "code",
   "execution_count": 3,
   "metadata": {},
   "outputs": [],
   "source": [
    "test= ReadFASTA(\"../data/reference/NY.OR.main.fa\")"
   ]
  },
  {
   "cell_type": "code",
   "execution_count": 4,
   "metadata": {},
   "outputs": [],
   "source": [
    "PB2=test[1]\n",
    "c = codonalign.CodonSeq(str(PB2.seq))"
   ]
  },
  {
   "cell_type": "code",
   "execution_count": 5,
   "metadata": {},
   "outputs": [
    {
     "data": {
      "text/plain": [
       "CodonSeq('ATGGATGTCAATCCGACTCTACTGTTCTTAAAAGTTCCAGCGCAAAATGCCATA...TAA', CodonAlphabet(Standard))"
      ]
     },
     "execution_count": 5,
     "metadata": {},
     "output_type": "execute_result"
    }
   ],
   "source": [
    "c"
   ]
  },
  {
   "cell_type": "code",
   "execution_count": 6,
   "metadata": {},
   "outputs": [
    {
     "data": {
      "text/plain": [
       "(477.9999999999982, 1793.0000000000064)"
      ]
     },
     "execution_count": 6,
     "metadata": {},
     "output_type": "execute_result"
    }
   ],
   "source": [
    "cList=codonalign.codonseq._get_codon_list(c)\n",
    "codonalign.codonseq._count_site_NG86(cList[:-1],k=1)"
   ]
  },
  {
   "cell_type": "markdown",
   "metadata": {},
   "source": [
    "# Outine\n",
    "\n",
    "1) Read in meta data and filter to samples that qualified for iSNV identification\n",
    "\n",
    "2) Count the number of iSNV in each sample\n",
    "        - Count NS and S\n",
    "        - Count by segment\n",
    "        \n",
    "3) For each sample for each segment\n",
    "        - Get OR.\n",
    "        - Calculate NS and S\n",
    "    - Add to table of NS and S for each segment\n",
    "    \n",
    "4) Calculate Dn/Ds for each segment and total genome.\n",
    "\n",
    "### To think about\n",
    "What reading frames are we using - at this point just the cononical\n",
    "    NS and S was defined as NS in any OR.\n",
    "Should we only use 1 sample per illness? - Probabily but not done at this point.\n",
    "\n",
    "We assume each mutation is in a unique codon  - almost certainly true but easily checked.\n",
    "   "
   ]
  },
  {
   "cell_type": "markdown",
   "metadata": {},
   "source": [
    "## 1) Meta file\n",
    "\n",
    "This work is much easier for me to do in R so we'll use that here"
   ]
  },
  {
   "cell_type": "code",
   "execution_count": 7,
   "metadata": {},
   "outputs": [],
   "source": [
    "meta = pd.read_csv(\"../data/processed/secondary/meta_for_ns.s_calc.csv\")\n"
   ]
  },
  {
   "cell_type": "code",
   "execution_count": 8,
   "metadata": {},
   "outputs": [],
   "source": [
    "meta = meta.loc[meta.snv_qualified==True]\n"
   ]
  },
  {
   "cell_type": "code",
   "execution_count": 76,
   "metadata": {},
   "outputs": [],
   "source": [
    "sys.path.append(\"/Users/jt/lauring_lab_repos/variant_pipeline/scripts/\")\n",
    "from fasta_functions import StripGapsToFirstSequence, Align\n",
    "def get_meta(SPECID,meta):\n",
    "    \"\"\"This function takes a SPECID and data frame with meta data and\n",
    "    returns a dictionary of the meta data for that sample.\"\"\"\n",
    "    ID = meta.loc[meta.SPECID==SPECID,\"Id\"].unique()[0]\n",
    "    ID = ID.split(\".\")[0]\n",
    "    RUN = meta.loc[meta.SPECID==SPECID,\"run\"].unique()[0]\n",
    "    season = meta.loc[meta.SPECID==SPECID,\"season\"].unique()[0]\n",
    "    ENROLLID = meta.loc[meta.SPECID==SPECID,\"ENROLLID\"].unique()[0]\n",
    "    HOUSE_ID = meta.loc[meta.SPECID==SPECID,\"HOUSE_ID\"].unique()[0]\n",
    "    if RUN==\"vic\":\n",
    "        RUN=\"victoria\"\n",
    "    if RUN==\"vic_2\":\n",
    "        RUN=\"victoria_2\"\n",
    "    return({\"Id\":ID,\"run\":RUN,\"season\":season,\"enrollid\":ENROLLID,\"house_id\":HOUSE_ID})\n",
    "\n",
    "def run_to_OR(run):\n",
    "    \n",
    "    \"\"\"This function takes in the name of sequencing run from this study and returns the relative path\n",
    "    to the fasta files with the OR for that sample.\"\"\"\n",
    "    conversion={\"perth\":\"../data/reference/perth.OR.fa\",\n",
    "               \"perth_2\": \"../data/reference/perth.OR.fa\",\n",
    "               \"cali09\":\"../data/reference/cali09.OR.fa\",\n",
    "               \"cali09_2\":\"../data/reference/cali09.OR.fa\",\n",
    "               \"victoria\":\"../data/reference/victoria.OR.fa\",\n",
    "               \"victoria_2\":\"../data/reference/victoria.OR.fa\",\n",
    "               \"HK_1\":\"../data/reference/NY.OR.fa\",\n",
    "               \"HK_2\":\"../data/reference/NY.OR.fa\",\n",
    "               \"HK_6\":\"../data/reference/NY.OR.fa\",\n",
    "               \"HK_7\":\"../data/reference/NY.OR.fa\",\n",
    "               \"HK_8\":\"../data/reference/NY.OR.fa\"}\n",
    "    return(conversion[run])\n",
    "\n",
    "def trim_to_coding(fasta,SPECID,meta):\n",
    "    \"\"\"This funciton trims a sample fasta sequence to the reading frame defined in a separate fasta file\n",
    "    First the funciton takes in the SPECID and looks up where the sample fasta file will be using the meta data\n",
    "    available in the meta argument. For each sequence in the reference the function looks for the same sequence name\n",
    "    in the sample fasta. It then alings this and trims the gaps so we are left with just the OR.\"\"\"\n",
    "    \n",
    "    samp_meta = get_meta(SPECID,meta)\n",
    "    \n",
    "    regions = run_to_OR(samp_meta[\"run\"])\n",
    "    \n",
    "    coding = ReadFASTA(regions)\n",
    "    # cycle through fasta \n",
    "    OR=[]\n",
    "    for gene in fasta:\n",
    "        seg_id=gene.id  \n",
    "        gene.description = \"this is the test sample\" + gene.description\n",
    "        for code in coding:\n",
    "            code_id = code.id\n",
    "            if seg_id in code_id:\n",
    "                #print('working with %s' %seg_id) #and seg_id==\"NR\":\n",
    "                code_gene=Align([code,gene],\"/Users/jt/muscle3.8.31/\")\n",
    "                code_gene_trimmed = StripGapsToFirstSequence(code_gene)\n",
    "                code_gene_trimmed.id=code_id\n",
    "                code_gene_trimmed.name=code_id\n",
    "                OR.append(code_gene_trimmed)\n",
    "        \n",
    "    return(OR)\n",
    "def get_seq(specid_list,meta_run):\n",
    "    \"\"\"This function takes a list of SPECIDs and data frame with meta data for the samples.  It only returns the consensus sequences.\n",
    "    For each SPECID we get the meta data in dictionary form,g et the consensus fasta file, \n",
    "    Trim the new sequences to the coding regions and return a dictionary of the results indexed by SPECID.\"\"\"\n",
    "    sequences={}\n",
    "    for specid in specid_list:\n",
    "        meta = get_meta(specid,meta_run)\n",
    "        fa = \"../data/processed/\"+meta[\"run\"]+\"/parsed_fa/\"+meta[\"Id\"]+\".removed.parsed.fasta\"\n",
    "        seq = ReadFASTA(fa)\n",
    "    \n",
    "        for seg in seq:\n",
    "            seg.name=specid\n",
    "        \n",
    "        seg_coding = trim_to_coding(seq,specid,meta_run)\n",
    "        specid_key = '%s_%s_%s_%s_consensus' % (specid,meta[\"enrollid\"],meta[\"house_id\"],meta[\"season\"])\n",
    "        sequences[specid_key] = seg_coding \n",
    "    return(sequences)\n",
    "\n",
    "def get_NS_s(seqs):\n",
    "    counter = {\"PB2\":[0,0],\"PB1\":[0,0],\"PB1-F2\":[0,0],\n",
    "               \"PA\":[0,0],\"PA-X\":[0,0],\"HA\":[0,0],\"NP\":[0,0],\n",
    "               \"NR\":[0,0],\"M1\":[0,0],\"M2\":[0,0],\"NS1\":[0,0],\"NS2\":[0,0]}\n",
    "    #seqs = get_seq(specid_list,meta_run)\n",
    "    # cycle through the samples\n",
    "    \n",
    "    errors = pd.DataFrame(columns=[\"SPECID\", \"Segment\",\"Error\"])\n",
    "\n",
    "    for sample in seqs:\n",
    "        sample_seq = seqs[sample]# a list of seqrecords\n",
    "        for sequence in sample_seq: # cycle through seqrecords\n",
    "            seq_name = sequence.name\n",
    "            assert len(str(sequence.seq)) % 3 == 0, \"Sequence length is not a triple number\"\n",
    "            try:\n",
    "                codon_sequence = codonalign.CodonSeq(str(sequence.seq),gap_char='-')\n",
    "            except ValueError as ve:\n",
    "                print(\"ValueError probabable gap - skipping %s in sample %s Remove any mutations from this OR in count\" % ( seq_name, sample))\n",
    "                errors = errors.append({\"SPECID\": sample.split('_')[0],\n",
    "                                \"Segment\":  seq_name,\n",
    "                                \"Error\" : str(ve).split(\"(\")[1].split(\")\")[0]}, ignore_index=True)\n",
    "            else:\n",
    "                cList = codonalign.codonseq._get_codon_list(codon_sequence)\n",
    "                try:\n",
    "                    counts = codonalign.codonseq._count_site_NG86(cList[:-1],k=1) # remove the stop codon\n",
    "                except KeyError as e: \n",
    "                    print(\"Codon Key error. Found %s in OR \\n skipping %s in sample %s Remove any mutations from this OR in count\" % (e, seq_name, sample))\n",
    "                    errors = errors.append({\"SPECID\": sample.split('_')[0],\n",
    "                                \"Segment\":  seq_name,\n",
    "                                \"Error\" : e}, ignore_index=True)\n",
    "                else:\n",
    "                            counter[seq_name][0] += counts[0]\n",
    "                            counter[seq_name][1] += counts[1]\n",
    "    return(counter,errors)\n"
   ]
  },
  {
   "cell_type": "code",
   "execution_count": 114,
   "metadata": {},
   "outputs": [
    {
     "data": {
      "text/html": [
       "<div>\n",
       "<style scoped>\n",
       "    .dataframe tbody tr th:only-of-type {\n",
       "        vertical-align: middle;\n",
       "    }\n",
       "\n",
       "    .dataframe tbody tr th {\n",
       "        vertical-align: top;\n",
       "    }\n",
       "\n",
       "    .dataframe thead th {\n",
       "        text-align: right;\n",
       "    }\n",
       "</style>\n",
       "<table border=\"1\" class=\"dataframe\">\n",
       "  <thead>\n",
       "    <tr style=\"text-align: right;\">\n",
       "      <th></th>\n",
       "      <th>Unnamed: 0</th>\n",
       "      <th>X1.x</th>\n",
       "      <th>SPECID</th>\n",
       "      <th>X1_2</th>\n",
       "      <th>X1_1</th>\n",
       "      <th>HOUSE_ID</th>\n",
       "      <th>ENROLLID</th>\n",
       "      <th>onset</th>\n",
       "      <th>collect</th>\n",
       "      <th>vaccination_status</th>\n",
       "      <th>...</th>\n",
       "      <th>sequenced</th>\n",
       "      <th>home_collected</th>\n",
       "      <th>snv_qualified</th>\n",
       "      <th>iSNV</th>\n",
       "      <th>HA_iSNV</th>\n",
       "      <th>X1.y</th>\n",
       "      <th>run</th>\n",
       "      <th>Id</th>\n",
       "      <th>coverage</th>\n",
       "      <th>dup</th>\n",
       "    </tr>\n",
       "  </thead>\n",
       "  <tbody>\n",
       "    <tr>\n",
       "      <th>129</th>\n",
       "      <td>130</td>\n",
       "      <td>130</td>\n",
       "      <td>MH2516</td>\n",
       "      <td>126</td>\n",
       "      <td>126</td>\n",
       "      <td>3061</td>\n",
       "      <td>330243</td>\n",
       "      <td>2012-12-17</td>\n",
       "      <td>2012-12-19</td>\n",
       "      <td>1</td>\n",
       "      <td>...</td>\n",
       "      <td>True</td>\n",
       "      <td>0</td>\n",
       "      <td>True</td>\n",
       "      <td>2</td>\n",
       "      <td>0</td>\n",
       "      <td>506</td>\n",
       "      <td>victoria</td>\n",
       "      <td>1240</td>\n",
       "      <td>27114.670677</td>\n",
       "      <td>NaN</td>\n",
       "    </tr>\n",
       "  </tbody>\n",
       "</table>\n",
       "<p>1 rows × 27 columns</p>\n",
       "</div>"
      ],
      "text/plain": [
       "     Unnamed: 0  X1.x  SPECID  X1_2  X1_1  HOUSE_ID ENROLLID       onset  \\\n",
       "129         130   130  MH2516   126   126      3061   330243  2012-12-17   \n",
       "\n",
       "        collect  vaccination_status ...  sequenced home_collected  \\\n",
       "129  2012-12-19                   1 ...       True              0   \n",
       "\n",
       "     snv_qualified iSNV  HA_iSNV  X1.y       run    Id      coverage  dup  \n",
       "129           True    2        0   506  victoria  1240  27114.670677  NaN  \n",
       "\n",
       "[1 rows x 27 columns]"
      ]
     },
     "execution_count": 114,
     "metadata": {},
     "output_type": "execute_result"
    }
   ],
   "source": [
    "\n",
    "\n",
    "meta.loc[meta.SPECID==\"MH2516\"]"
   ]
  },
  {
   "cell_type": "raw",
   "metadata": {},
   "source": [
    "x = get_seq([\"MH5300\"],meta)\n",
    "x=x[\"MH5300_UM41553_4113_2013-2014_consensus\"]\n",
    "test = x[1].seq\n",
    "test"
   ]
  },
  {
   "cell_type": "code",
   "execution_count": 10,
   "metadata": {},
   "outputs": [],
   "source": [
    "sequences = get_seq(meta.SPECID,meta)"
   ]
  },
  {
   "cell_type": "code",
   "execution_count": 77,
   "metadata": {
    "scrolled": false
   },
   "outputs": [
    {
     "name": "stdout",
     "output_type": "stream",
     "text": [
      "Codon Key error. Found 'TAA' in OR \n",
      " skipping PB1-F2 in sample MH5300_UM41553_4113_2013-2014_consensus Remove any mutations from this OR in count\n",
      "Codon Key error. Found 'TAA' in OR \n",
      " skipping PB1-F2 in sample MH5245_UM40449_4113_2013-2014_consensus Remove any mutations from this OR in count\n",
      "Codon Key error. Found 'TAA' in OR \n",
      " skipping PB1-F2 in sample MH5817_UM40062_4016_2013-2014_consensus Remove any mutations from this OR in count\n",
      "Codon Key error. Found 'TAA' in OR \n",
      " skipping PB1-F2 in sample MH5680_UM40093_4024_2013-2014_consensus Remove any mutations from this OR in count\n",
      "Codon Key error. Found 'TAA' in OR \n",
      " skipping PB1-F2 in sample MH5549_UM40367_4092_2013-2014_consensus Remove any mutations from this OR in count\n",
      "Codon Key error. Found 'TGA' in OR \n",
      " skipping PB1-F2 in sample M54206_300331_1077_2010-2011_consensus Remove any mutations from this OR in count\n",
      "Codon Key error. Found 'TAA' in OR \n",
      " skipping PB1-F2 in sample MH5499_UM40621_4156_2013-2014_consensus Remove any mutations from this OR in count\n",
      "Codon Key error. Found 'TAA' in OR \n",
      " skipping PB1-F2 in sample MH5295_UM41554_4113_2013-2014_consensus Remove any mutations from this OR in count\n",
      "Codon Key error. Found 'TAA' in OR \n",
      " skipping NS1 in sample MH0922_320110_2028_2011-2012_consensus Remove any mutations from this OR in count\n",
      "Codon Key error. Found 'TGA' in OR \n",
      " skipping PB1-F2 in sample M54205_300330_1077_2010-2011_consensus Remove any mutations from this OR in count\n",
      "Codon Key error. Found 'TAA' in OR \n",
      " skipping PB1-F2 in sample MH2516_330243_3061_2012-2013_consensus Remove any mutations from this OR in count\n",
      "Codon Key error. Found 'TAA' in OR \n",
      " skipping PB1-F2 in sample MH5848_UM41576_4159_2013-2014_consensus Remove any mutations from this OR in count\n",
      "Codon Key error. Found 'TAA' in OR \n",
      " skipping NS1 in sample MH1782_320468_2117_2011-2012_consensus Remove any mutations from this OR in count\n",
      "Codon Key error. Found 'TAA' in OR \n",
      " skipping PB1-F2 in sample M53523_300557_1130_2010-2011_consensus Remove any mutations from this OR in count\n",
      "Codon Key error. Found 'TAA' in OR \n",
      " skipping PB1-F2 in sample MH2527_330035_3009_2012-2013_consensus Remove any mutations from this OR in count\n",
      "Codon Key error. Found 'TAA' in OR \n",
      " skipping PB1-F2 in sample MH2936_330640_3160_2012-2013_consensus Remove any mutations from this OR in count\n",
      "Codon Key error. Found 'TAA' in OR \n",
      " skipping PB1-F2 in sample MH5193_UM41569_4141_2013-2014_consensus Remove any mutations from this OR in count\n",
      "Codon Key error. Found 'TAA' in OR \n",
      " skipping PB1-F2 in sample MH5849_UM41577_4159_2013-2014_consensus Remove any mutations from this OR in count\n",
      "Codon Key error. Found 'TGA' in OR \n",
      " skipping PB1-F2 in sample M54207_300332_1077_2010-2011_consensus Remove any mutations from this OR in count\n",
      "Codon Key error. Found 'TAA' in OR \n",
      " skipping PB1-F2 in sample M54062_301203_1275_2010-2011_consensus Remove any mutations from this OR in count\n",
      "Codon Key error. Found 'TAA' in OR \n",
      " skipping PB1-F2 in sample MH5405_UM40738_4185_2013-2014_consensus Remove any mutations from this OR in count\n",
      "Codon Key error. Found 'TAA' in OR \n",
      " skipping PB1-F2 in sample MH5712_UM41510_4024_2013-2014_consensus Remove any mutations from this OR in count\n",
      "Codon Key error. Found 'TAA' in OR \n",
      " skipping PB1-F2 in sample MH5651_UM40699_4175_2013-2014_consensus Remove any mutations from this OR in count\n",
      "Codon Key error. Found 'TAA' in OR \n",
      " skipping PB1-F2 in sample MH6042_UM40439_4110_2013-2014_consensus Remove any mutations from this OR in count\n",
      "Codon Key error. Found 'TAA' in OR \n",
      " skipping PB1-F2 in sample MH5709_UM40095_4024_2013-2014_consensus Remove any mutations from this OR in count\n",
      "ValueError probabable gap - skipping PB2 in sample MH2436_331045_3075_2012-2013_consensus Remove any mutations from this OR in count\n",
      "    SPECID Segment  Error\n",
      "0   MH5300  PB1-F2  'TAA'\n",
      "1   MH5245  PB1-F2  'TAA'\n",
      "2   MH5817  PB1-F2  'TAA'\n",
      "3   MH5680  PB1-F2  'TAA'\n",
      "4   MH5549  PB1-F2  'TAA'\n",
      "5   M54206  PB1-F2  'TGA'\n",
      "6   MH5499  PB1-F2  'TAA'\n",
      "7   MH5295  PB1-F2  'TAA'\n",
      "8   MH0922     NS1  'TAA'\n",
      "9   M54205  PB1-F2  'TGA'\n",
      "10  MH2516  PB1-F2  'TAA'\n",
      "11  MH5848  PB1-F2  'TAA'\n",
      "12  MH1782     NS1  'TAA'\n",
      "13  M53523  PB1-F2  'TAA'\n",
      "14  MH2527  PB1-F2  'TAA'\n",
      "15  MH2936  PB1-F2  'TAA'\n",
      "16  MH5193  PB1-F2  'TAA'\n",
      "17  MH5849  PB1-F2  'TAA'\n",
      "18  M54207  PB1-F2  'TGA'\n",
      "19  M54062  PB1-F2  'TAA'\n",
      "20  MH5405  PB1-F2  'TAA'\n",
      "21  MH5712  PB1-F2  'TAA'\n",
      "22  MH5651  PB1-F2  'TAA'\n",
      "23  MH6042  PB1-F2  'TAA'\n",
      "24  MH5709  PB1-F2  'TAA'\n",
      "25  MH2436     PB2    GT-\n",
      "Codon Key error. Found 'TAA' in OR \n",
      " skipping PB1-F2 in sample MH5679_UM40066_4017_2013-2014_consensus Remove any mutations from this OR in count\n",
      "Codon Key error. Found 'TAA' in OR \n",
      " skipping PB1-F2 in sample MH5645_UM40457_4115_2013-2014_consensus Remove any mutations from this OR in count\n",
      "Codon Key error. Found 'TAA' in OR \n",
      " skipping PB1-F2 in sample MH5229_UM40245_4062_2013-2014_consensus Remove any mutations from this OR in count\n",
      "Codon Key error. Found 'TAA' in OR \n",
      " skipping PB1-F2 in sample MH2942_331433_3284_2012-2013_consensus Remove any mutations from this OR in count\n",
      "Codon Key error. Found 'TAA' in OR \n",
      " skipping PB1-F2 in sample MH5656_UM41575_4157_2013-2014_consensus Remove any mutations from this OR in count\n",
      "Codon Key error. Found 'TAA' in OR \n",
      " skipping PB1-F2 in sample MH6262_UM40530_4133_2013-2014_consensus Remove any mutations from this OR in count\n",
      "Codon Key error. Found 'TAA' in OR \n",
      " skipping PB1-F2 in sample MH5677_UM40292_4073_2013-2014_consensus Remove any mutations from this OR in count\n",
      "Codon Key error. Found 'TAA' in OR \n",
      " skipping PB1-F2 in sample MH5194_UM41570_4141_2013-2014_consensus Remove any mutations from this OR in count\n",
      "Codon Key error. Found 'TAA' in OR \n",
      " skipping PB1-F2 in sample MH5646_UM40460_4115_2013-2014_consensus Remove any mutations from this OR in count\n",
      "Codon Key error. Found 'TAA' in OR \n",
      " skipping PB1-F2 in sample MH5548_UM40366_4092_2013-2014_consensus Remove any mutations from this OR in count\n",
      "Codon Key error. Found 'TAA' in OR \n",
      " skipping PB1-F2 in sample MH5546_UM41567_4140_2013-2014_consensus Remove any mutations from this OR in count\n",
      "Codon Key error. Found 'TAA' in OR \n",
      " skipping PB1-F2 in sample MH6260_UM40300_4075_2013-2014_consensus Remove any mutations from this OR in count\n"
     ]
    }
   ],
   "source": [
    "Ns_s,e = get_NS_s(sequences)"
   ]
  },
  {
   "cell_type": "code",
   "execution_count": 106,
   "metadata": {},
   "outputs": [],
   "source": [
    "l=[]\n",
    "for x in e.SPECID:\n",
    "    y = meta.pcr_result[meta.SPECID==x]\n",
    "    l.append(y.asobject[0])\n",
    "    \n",
    "e[\"pcr_result\"] = l"
   ]
  },
  {
   "cell_type": "code",
   "execution_count": 108,
   "metadata": {},
   "outputs": [
    {
     "data": {
      "text/html": [
       "<div>\n",
       "<style scoped>\n",
       "    .dataframe tbody tr th:only-of-type {\n",
       "        vertical-align: middle;\n",
       "    }\n",
       "\n",
       "    .dataframe tbody tr th {\n",
       "        vertical-align: top;\n",
       "    }\n",
       "\n",
       "    .dataframe thead th {\n",
       "        text-align: right;\n",
       "    }\n",
       "</style>\n",
       "<table border=\"1\" class=\"dataframe\">\n",
       "  <thead>\n",
       "    <tr style=\"text-align: right;\">\n",
       "      <th></th>\n",
       "      <th>SPECID</th>\n",
       "      <th>Segment</th>\n",
       "      <th>Error</th>\n",
       "      <th>pcr_result</th>\n",
       "    </tr>\n",
       "  </thead>\n",
       "  <tbody>\n",
       "    <tr>\n",
       "      <th>8</th>\n",
       "      <td>MH0922</td>\n",
       "      <td>NS1</td>\n",
       "      <td>'TAA'</td>\n",
       "      <td>A/H3N2</td>\n",
       "    </tr>\n",
       "    <tr>\n",
       "      <th>10</th>\n",
       "      <td>MH2516</td>\n",
       "      <td>PB1-F2</td>\n",
       "      <td>'TAA'</td>\n",
       "      <td>A/H3N2</td>\n",
       "    </tr>\n",
       "    <tr>\n",
       "      <th>12</th>\n",
       "      <td>MH1782</td>\n",
       "      <td>NS1</td>\n",
       "      <td>'TAA'</td>\n",
       "      <td>A/H3N2</td>\n",
       "    </tr>\n",
       "    <tr>\n",
       "      <th>14</th>\n",
       "      <td>MH2527</td>\n",
       "      <td>PB1-F2</td>\n",
       "      <td>'TAA'</td>\n",
       "      <td>A/H3N2</td>\n",
       "    </tr>\n",
       "    <tr>\n",
       "      <th>25</th>\n",
       "      <td>MH2436</td>\n",
       "      <td>PB2</td>\n",
       "      <td>GT-</td>\n",
       "      <td>A/H3N2</td>\n",
       "    </tr>\n",
       "    <tr>\n",
       "      <th>29</th>\n",
       "      <td>MH2942</td>\n",
       "      <td>PB1-F2</td>\n",
       "      <td>'TAA'</td>\n",
       "      <td>A/H3N2</td>\n",
       "    </tr>\n",
       "  </tbody>\n",
       "</table>\n",
       "</div>"
      ],
      "text/plain": [
       "    SPECID Segment  Error pcr_result\n",
       "8   MH0922     NS1  'TAA'     A/H3N2\n",
       "10  MH2516  PB1-F2  'TAA'     A/H3N2\n",
       "12  MH1782     NS1  'TAA'     A/H3N2\n",
       "14  MH2527  PB1-F2  'TAA'     A/H3N2\n",
       "25  MH2436     PB2    GT-     A/H3N2\n",
       "29  MH2942  PB1-F2  'TAA'     A/H3N2"
      ]
     },
     "execution_count": 108,
     "metadata": {},
     "output_type": "execute_result"
    }
   ],
   "source": [
    "e.loc[e.pcr_result==\"A/H3N2\"]"
   ]
  },
  {
   "cell_type": "markdown",
   "metadata": {},
   "source": [
    "## PB1-F2 Stop\n",
    "\n",
    "Sample MH5300 is H1N1 and has a stop codon in the PB1-F2 OR. This is confirmed in the best Blast alignment and in a note in CY188895.1 . The function should ouput any other errors. I will confirm these and then adjust the NS S counts accrodingly.\n",
    "\n",
    "This same mutation is found in many samples. MH2516, MH2527 and MH2942 are the only H3N2 with the mutation.\n"
   ]
  },
  {
   "cell_type": "code",
   "execution_count": 115,
   "metadata": {},
   "outputs": [
    {
     "data": {
      "text/plain": [
       "'ATGGAACAGGGACAGGGTACACCATGGATACAGTCAACAGAACACACCAATATTCAGAGAGGGGGAAGTGGACGACAAATACAGAAACTGGGGCACCCCAACTAAACCCAATTGATGGACCACTACCTGAGGATAATGAACCAAGTGGATATGCACAAACAGACTGTGTCCTGGAGGCTATGGCCTTCCTTGAAGAATCCCACCCAGGTATCTTTGAGAACTCATGCCTTGAAACAATGGAAGCCGTTCAACAGACAAGGGTGGACAAACTAA'"
      ]
     },
     "execution_count": 115,
     "metadata": {},
     "output_type": "execute_result"
    }
   ],
   "source": [
    "H3N2_stop = str(sequences[\"MH2516_330243_3061_2012-2013_consensus\"][2].seq)\n",
    "H3N2_stop"
   ]
  },
  {
   "cell_type": "code",
   "execution_count": 122,
   "metadata": {},
   "outputs": [
    {
     "data": {
      "text/plain": [
       "102"
      ]
     },
     "execution_count": 122,
     "metadata": {},
     "output_type": "execute_result"
    }
   ],
   "source": [
    "codon_sequence = codonalign.CodonSeq(H3N2_stop,gap_char='-')\n",
    "x = codonalign.codonseq._get_codon_list(codon_sequence)\n",
    "\n",
    "x.index(\"TAA\")\n",
    "#len(x)"
   ]
  },
  {
   "cell_type": "markdown",
   "metadata": {},
   "source": [
    "CY171005.1 matches this sequence. I think we will ignore PB1-F2 and PA-X"
   ]
  },
  {
   "cell_type": "markdown",
   "metadata": {},
   "source": [
    "## PB2 gap\n",
    "\n",
    "One sample has a frame shift deletion of 2 nt near the end of PB1. This is confirmed by looking at the igv viewer. This is a victoria sample 1230. "
   ]
  },
  {
   "cell_type": "code",
   "execution_count": 37,
   "metadata": {},
   "outputs": [],
   "source": [
    "gap = sequences[\"MH2436_331045_3075_2012-2013_consensus\"][1].seq"
   ]
  },
  {
   "cell_type": "code",
   "execution_count": 38,
   "metadata": {},
   "outputs": [
    {
     "data": {
      "text/plain": [
       "'ATGGAAAGAATAAAAGAACTACGGAATCTGATGTCGCAGTCTCGCACTCGCGAGATACTGACAAAAACCACAGTGGACCATATGGCCATAATTAAGAAGTACACATCGGGGAGACAGGAAAAGAACCCGTCACTTAGGATGAAATGGATGATGGCAATGAAATATCCAATCACTGCTGACAAAAGGGTAACAGAAATGGTTCCGGAGAGAAATGAACAAGGACAAACTCTATGGAGTAAAATGAGTGATGCTGGATCAGATAGAGTGATGGTATCACCTTTGGCTGTAACATGGTGGAATAGGAATGGACCCGTGACAAGTACGGTCCATTACCCAAAAGTGTACAAAACTTATTTCGACAAAGTCGAAAGGTTAAAACATGGAACCTTTGGCCCTGTCCATTTTAGAAATCAAGTCAAGATACGCAGAAGAGTAGACATAAACCCTGGTCATGCAGACCTCAGTGCCAAAGAGGCACAAGATGTAATTATGGAAGTTGTTTTTCCCAATGAAGTGGGAGCCAGAATACTAACATCAGAATCACAACTAACAATAACTAAAGAGAAAAAAGAAGAACTCCGAGATTGCAAAATTTCTCCCTTGATGGTCGCATACATGTTAGAGAGAGAACTTGTGCGAAAAACAAGATTTCTCCCAGTTGCTGGCGGAACAAGCAGTATATACATTGAAGTTTTACATTTGACTCAAGGAACGTGTTGGGAACAAATGTACACTCCAGGTGGAGGAGTGAGGAATGACGATGTTGACCAAAGCCTAATTATTGCGGCCAGGAACATAGTAAGAAGAGCCGCAGTATCAGCAGATCCACTAGCATCTTTATTGGAGATGTGCCACAGCACGCAAATTGGCGGAACAAGGATGGTGGACATTCTTAGACAGAACCCGACTGAAGAACAAGCTGTGGATATATGCAAGGCTGCAATGGGATTGAGAATCAGCTCATCCTTCAGCTTTGGTGGCTTTACATTTAAAAGAACAAGCGGGTCGTCAGTCAAAAAAGAAGAAGAGGTGCTTACAGGCAATCTCCAAACATTGAGAATAAGAGTACATGAGGGGTATGAGGAGTTCACAATGGTGGGGAAAAGAGCAACAGCTATACTAAGAAAAGCAACCAGAAGATTGGTTCAACTCATAGTGAGTGGAAGAGACGAACAGTCAATAGCCGAAGCAATAATCGTGGCCATGGTGTTTTCACAAGAAGATTGCATGATAAAAGCAGTTAGAGGTGACCTGAATTTTGTCAACAGAGCAAATCAGCGGTTGAACCCCATGCATCAGCTTTTAAGGCATTTTCAGAAAGATGCGAAAGTACTCTTTCAAAATTGGGGAGTTGAACACATCGACAGTGTGATGGGAATGGTTGGAGTATTACCAGATATGACTCCAAGCACAGAGATGTCAATGAGAGGAATAAGAGTCAGCAAAATGGGTGTGGATGAATACTCCAGTACAGAGAGGGTGGTGGTTAGCATTGATCGGTTTTTGAGAGTTCGAGACCAACGTGGGAATGTATTATTATCTCCTGAGGAGGTCAGTGAAACACAGGGAACTGAGAGACTGACAATAACTTATTCATCGTCGATGATGTGGGAGATTAACGGTCCTGAGTCGGTTTTGGTCAATACCTATCAATGGATCATCAGGAATTGGGAAGCTGTCAAAATTCAATGGTCTCAGAATCCTGCAATGTTGTACAACAAAATGGAATTTGAACCATTTCAATCTTTAGTCCCCAAGGCCATTAGAAGCCAATACAGTGGGTTTGTCAGAACTCTATTCCAACAAATGAGAGACGTACTTGGGACATTTGACACTGCCCAGATAATAAAGCTTCTCCCTTTTGCAGCTGCTCCACCGAAGCAAAGCAGAATGCAGTTCTCTTCACTGACTGTGAATGTGAGGGGATCAGGGATGAGAATACTTGTAAGGGGCAATTCTCCTGTATTCAACTACAACAAGACCACTAAAAGGCTAACAATTCTCGGAAAAGATGCCGGCACTTTAATTGAAGACCCAGATGAAAGCACATCCGGAGTGGAGTCCGCCGTCTTGAGAGGGTTCCTCATTATAGGTAAAGAAGACAGAAGATACGGACCAGCATTAAGCATCAATGAACTGAGTAACCTTGCAAAAGGGGAAAAGGCTAATGT--TAATTGGGCAAGGAGACGTGGTGTTGGTAATGAAACGAAAACGGGACTCTAGTATACTTACTGACAGCCAGACAGCGACCAAAAGAATTCGGATGGCCATCAATTAA'"
      ]
     },
     "execution_count": 38,
     "metadata": {},
     "output_type": "execute_result"
    }
   ],
   "source": [
    "str(gap)"
   ]
  },
  {
   "cell_type": "markdown",
   "metadata": {},
   "source": [
    "## NS1 issues\n",
    "\n",
    "I have checked the following samples. They have a premeture stop codon that terminates the NS1 AA early.\n",
    "MH1782  -3 codons early\n",
    "MH0922  -10 codons early"
   ]
  },
  {
   "cell_type": "code",
   "execution_count": 90,
   "metadata": {},
   "outputs": [],
   "source": [
    "\n",
    "NS1_stop = sequences[\"MH0922_320110_2028_2011-2012_consensus\"]\n",
    "#NS1_stop = sequences[\"MH1782_320468_2117_2011-2012_consensus\"]"
   ]
  },
  {
   "cell_type": "code",
   "execution_count": 91,
   "metadata": {},
   "outputs": [
    {
     "data": {
      "text/plain": [
       "'ATGGATTCCAACACTGTGTCAAGTTTCCAGGTAGATTGCTTTCTTTGGCATATCCGGAAACAAGTTGTAGACCAAGAACTGAGTGATGCCCCATTCCTTGATCGGCTTCGCCGAGATCAGAGGTCCCTAAGGGGAAGAGGCAATACTCTCGGTCTAGACATCAAAGCAGCCACCCATGTTGGAAAGCAAATTGTAGAAAAGATTCTGAAAGAAGAATCTGATGAGGCACTTAAAATGACCATGGTCTCAACACCTGCTTCGCGATACATAACTGACATGACTATTGAGGAATTGTCAAGAAACTGGTTCATGCTAATGCCCAAGCAGAAAGTGGAAGGACCTCTTTGCATCAGAATGGACCAGGCAATCATGGAGAAAAACATCATGTTAAAAGCGAATTTCAATGTGATTTTTGGCCGACTAGAGACCATAGTATTACTAAGGGCTTTCACTGAAGAGGGAGCAATTGTTGGCGAAATCTCACCATTGCCTTCTTTTCCAGGACATACTATTGAGGATGTCAAAAATGCAATTGGGGTCCTCATCGGAGGACTTGAATGGAATGATAACACAGTTCGAGTCTCTAAAAATCTACAGAGATTCGCTTGGAGAAGCAGTAATGAGAATGGGGGACCTCCACTTACTCCAAAACAGAAACGGTAAATGGCGAGAACAGCTAGGTCAGAAGTTTGA'"
      ]
     },
     "execution_count": 91,
     "metadata": {},
     "output_type": "execute_result"
    }
   ],
   "source": [
    "str(NS1_stop[10].seq)"
   ]
  },
  {
   "cell_type": "markdown",
   "metadata": {},
   "source": [
    "Blast these sequences and identify the mutation."
   ]
  },
  {
   "cell_type": "code",
   "execution_count": 134,
   "metadata": {},
   "outputs": [],
   "source": [
    "Ns_s_df = pd.DataFrame(Ns_s)\n",
    "Ns_s_df = Ns_s_df.transpose()\n",
    "Ns_s_df.columns = [\"S\",\"NS\"]"
   ]
  },
  {
   "cell_type": "code",
   "execution_count": 135,
   "metadata": {},
   "outputs": [],
   "source": [
    "Ns_s_df.to_csv(\"../data/processed/secondary/NS_S_site.csv\")"
   ]
  },
  {
   "cell_type": "code",
   "execution_count": 136,
   "metadata": {},
   "outputs": [
    {
     "data": {
      "text/html": [
       "<div>\n",
       "<style scoped>\n",
       "    .dataframe tbody tr th:only-of-type {\n",
       "        vertical-align: middle;\n",
       "    }\n",
       "\n",
       "    .dataframe tbody tr th {\n",
       "        vertical-align: top;\n",
       "    }\n",
       "\n",
       "    .dataframe thead th {\n",
       "        text-align: right;\n",
       "    }\n",
       "</style>\n",
       "<table border=\"1\" class=\"dataframe\">\n",
       "  <thead>\n",
       "    <tr style=\"text-align: right;\">\n",
       "      <th></th>\n",
       "      <th>S</th>\n",
       "      <th>NS</th>\n",
       "    </tr>\n",
       "  </thead>\n",
       "  <tbody>\n",
       "    <tr>\n",
       "      <th>HA</th>\n",
       "      <td>89459.666667</td>\n",
       "      <td>333342.333333</td>\n",
       "    </tr>\n",
       "    <tr>\n",
       "      <th>M1</th>\n",
       "      <td>42540.333333</td>\n",
       "      <td>145703.666667</td>\n",
       "    </tr>\n",
       "    <tr>\n",
       "      <th>M2</th>\n",
       "      <td>15184.000000</td>\n",
       "      <td>57275.000000</td>\n",
       "    </tr>\n",
       "    <tr>\n",
       "      <th>NP</th>\n",
       "      <td>81154.666667</td>\n",
       "      <td>290851.333333</td>\n",
       "    </tr>\n",
       "    <tr>\n",
       "      <th>NR</th>\n",
       "      <td>75760.000000</td>\n",
       "      <td>274583.000000</td>\n",
       "    </tr>\n",
       "    <tr>\n",
       "      <th>NS1</th>\n",
       "      <td>38060.000000</td>\n",
       "      <td>131314.000000</td>\n",
       "    </tr>\n",
       "    <tr>\n",
       "      <th>NS2</th>\n",
       "      <td>17988.666667</td>\n",
       "      <td>72398.333333</td>\n",
       "    </tr>\n",
       "    <tr>\n",
       "      <th>PA</th>\n",
       "      <td>109514.000000</td>\n",
       "      <td>425338.000000</td>\n",
       "    </tr>\n",
       "    <tr>\n",
       "      <th>PA-X</th>\n",
       "      <td>37719.333333</td>\n",
       "      <td>148604.666667</td>\n",
       "    </tr>\n",
       "    <tr>\n",
       "      <th>PB1</th>\n",
       "      <td>118970.666667</td>\n",
       "      <td>446508.333333</td>\n",
       "    </tr>\n",
       "    <tr>\n",
       "      <th>PB1-F2</th>\n",
       "      <td>11322.000000</td>\n",
       "      <td>43380.000000</td>\n",
       "    </tr>\n",
       "    <tr>\n",
       "      <th>PB2</th>\n",
       "      <td>123372.000000</td>\n",
       "      <td>441324.000000</td>\n",
       "    </tr>\n",
       "  </tbody>\n",
       "</table>\n",
       "</div>"
      ],
      "text/plain": [
       "                    S             NS\n",
       "HA       89459.666667  333342.333333\n",
       "M1       42540.333333  145703.666667\n",
       "M2       15184.000000   57275.000000\n",
       "NP       81154.666667  290851.333333\n",
       "NR       75760.000000  274583.000000\n",
       "NS1      38060.000000  131314.000000\n",
       "NS2      17988.666667   72398.333333\n",
       "PA      109514.000000  425338.000000\n",
       "PA-X     37719.333333  148604.666667\n",
       "PB1     118970.666667  446508.333333\n",
       "PB1-F2   11322.000000   43380.000000\n",
       "PB2     123372.000000  441324.000000"
      ]
     },
     "execution_count": 136,
     "metadata": {},
     "output_type": "execute_result"
    }
   ],
   "source": [
    "Ns_s_df"
   ]
  },
  {
   "cell_type": "code",
   "execution_count": 143,
   "metadata": {},
   "outputs": [
    {
     "data": {
      "text/plain": [
       "(1.0, 2.0)"
      ]
     },
     "execution_count": 143,
     "metadata": {},
     "output_type": "execute_result"
    }
   ],
   "source": [
    "codonalign.codonseq._count_site_NG86([\"CCC\"],k=1)"
   ]
  },
  {
   "cell_type": "code",
   "execution_count": null,
   "metadata": {},
   "outputs": [],
   "source": []
  }
 ],
 "metadata": {
  "kernelspec": {
   "display_name": "Python 2",
   "language": "python",
   "name": "python2"
  },
  "language_info": {
   "codemirror_mode": {
    "name": "ipython",
    "version": 2
   },
   "file_extension": ".py",
   "mimetype": "text/x-python",
   "name": "python",
   "nbconvert_exporter": "python",
   "pygments_lexer": "ipython2",
   "version": "2.7.14"
  }
 },
 "nbformat": 4,
 "nbformat_minor": 2
}
